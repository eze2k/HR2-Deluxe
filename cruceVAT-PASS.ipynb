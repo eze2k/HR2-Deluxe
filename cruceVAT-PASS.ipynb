{
 "cells": [
  {
   "cell_type": "code",
   "execution_count": 5,
   "metadata": {},
   "outputs": [],
   "source": [
    "import pandas as pd\n",
    "\n",
    "# Leer el archivo cruce.txt que contiene los DNIs\n",
    "with open('cruce.txt', 'r') as file:\n",
    "    dnis = file.read().splitlines()\n",
    "\n",
    "# Leer el archivo cuit_vat_pas.txt que contiene los CUITs y la columna SUB\n",
    "# Suponiendo que el archivo está separado por tabs y tiene encabezados\n",
    "df = pd.read_csv('PAS_VAT.txt',sep=\"\\t\")\n",
    "\n",
    "# Extraer los 8 dígitos centrales de los CUITs\n",
    "df['DNI'] = df['CUIT'].astype(str).str[2:10]\n",
    "\n",
    "# Filtrar el DataFrame para solo incluir los DNIs que están en cruce.txt\n",
    "result = df[df['DNI'].isin(dnis)]\n",
    "\n",
    "# Guardar el resultado en un nuevo archivo\n",
    "result[['DNI', 'SUB']].to_csv('resultado.txt', index=False, header=False)\n"
   ]
  }
 ],
 "metadata": {
  "kernelspec": {
   "display_name": ".venv",
   "language": "python",
   "name": "python3"
  },
  "language_info": {
   "codemirror_mode": {
    "name": "ipython",
    "version": 3
   },
   "file_extension": ".py",
   "mimetype": "text/x-python",
   "name": "python",
   "nbconvert_exporter": "python",
   "pygments_lexer": "ipython3",
   "version": "3.12.2"
  }
 },
 "nbformat": 4,
 "nbformat_minor": 2
}
